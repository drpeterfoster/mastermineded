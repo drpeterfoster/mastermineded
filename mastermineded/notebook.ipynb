{
 "cells": [
  {
   "cell_type": "code",
   "execution_count": null,
   "metadata": {},
   "outputs": [],
   "source": [
    "import numpy as np\n",
    "from mastermineded.core import MasterMinded"
   ]
  },
  {
   "cell_type": "code",
   "execution_count": null,
   "metadata": {},
   "outputs": [],
   "source": [
    "mm = MasterMinded(n_games=2500)"
   ]
  },
  {
   "cell_type": "code",
   "execution_count": null,
   "metadata": {},
   "outputs": [],
   "source": [
    "mm.run_games('random')\n",
    "mm.run_games('4color')\n",
    "mm.run_games('3color')\n",
    "mm.run_games('2color')\n",
    "mm.run_games('1color')"
   ]
  },
  {
   "cell_type": "code",
   "execution_count": null,
   "metadata": {},
   "outputs": [],
   "source": [
    "print('(init; mean; std')\n",
    "for k, v in mm.game_results.items():\n",
    "    print(k, round(v[1, 2]), round(v[2], 2))"
   ]
  }
 ],
 "metadata": {
  "language_info": {
   "name": "python"
  },
  "orig_nbformat": 4
 },
 "nbformat": 4,
 "nbformat_minor": 2
}
